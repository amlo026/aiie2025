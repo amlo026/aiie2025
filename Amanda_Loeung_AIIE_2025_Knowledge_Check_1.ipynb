{
  "nbformat": 4,
  "nbformat_minor": 0,
  "metadata": {
    "colab": {
      "provenance": []
    },
    "kernelspec": {
      "name": "python3",
      "display_name": "Python 3"
    },
    "language_info": {
      "name": "python"
    }
  },
  "cells": [
    {
      "cell_type": "markdown",
      "metadata": {
        "id": "9Dj8pYHCHUMI"
      },
      "source": [
        "##Knowlwdge Check - 1\n"
      ]
    },
    {
      "cell_type": "markdown",
      "metadata": {
        "id": "hIzo8lkOm03D"
      },
      "source": [
        "### Printing output"
      ]
    },
    {
      "cell_type": "markdown",
      "metadata": {
        "id": "7AKKps5JXjPH"
      },
      "source": [
        "1 - Using print(), print your name and city following the format:\n",
        "\n",
        "        Name : Angela\n",
        "        City : New York\n"
      ]
    },
    {
      "cell_type": "code",
      "metadata": {
        "id": "ixFUad4Mm0Ei",
        "colab": {
          "base_uri": "https://localhost:8080/"
        },
        "outputId": "fb00b219-2a7e-4254-a7b1-bdda0a164ef0"
      },
      "source": [
        "name = \"Angela\"\n",
        "city = \"New York\"\n",
        "\n",
        "print(\"Name: \" + name)\n",
        "print(\"City: \" + city)\n"
      ],
      "execution_count": 6,
      "outputs": [
        {
          "output_type": "stream",
          "name": "stdout",
          "text": [
            "Name: Angela\n",
            "City: New York\n"
          ]
        }
      ]
    },
    {
      "cell_type": "markdown",
      "metadata": {
        "id": "2vonbXOxXpQH"
      },
      "source": [
        "2 - Print the message below\n",
        "\n",
        "     Emergency Alert\n",
        "     NEWS : FLASH FLOOD WARNING this area till 7:00 PM"
      ]
    },
    {
      "cell_type": "code",
      "metadata": {
        "id": "D4Iacgy_m61W",
        "colab": {
          "base_uri": "https://localhost:8080/"
        },
        "outputId": "3b15807b-07ca-4599-ffd8-43051ffde90d"
      },
      "source": [
        "\n",
        "print(\"Emergency Alert\")\n",
        "print(\"NEWS : FLASH FLOOD WARNING this area till 7:00 PM\")\n"
      ],
      "execution_count": 9,
      "outputs": [
        {
          "output_type": "stream",
          "name": "stdout",
          "text": [
            "Emergency Alert\n",
            "NEWS : FLASH FLOOD WARNING this area till 7:00 PM\n"
          ]
        }
      ]
    },
    {
      "cell_type": "markdown",
      "metadata": {
        "id": "lRuqg-hamQGT"
      },
      "source": [
        "### Arithmetic Operators and Variables"
      ]
    },
    {
      "cell_type": "markdown",
      "metadata": {
        "id": "j1-O0lZgX3K1"
      },
      "source": [
        "3 - Take a number and divide it by 2, then take the output and divide it by 2, and again divide by 2. Use variables.\n",
        "\n",
        "\n",
        "    Example\n",
        "    input : 2000\n",
        "    output is: 1000 500 250\n",
        "\n"
      ]
    },
    {
      "cell_type": "code",
      "metadata": {
        "id": "3zsVDZcyl2l0",
        "colab": {
          "base_uri": "https://localhost:8080/"
        },
        "outputId": "7d3facb3-722a-4601-c793-541f7cea75ff"
      },
      "source": [
        "input1 = input(\"Enter a number: \")\n",
        "input1 = int(input1)\n",
        "print(input1)\n",
        "print(\"output is: \")\n",
        "for i in range(3):\n",
        "  input1 = input1/2\n",
        "  print(input1)\n"
      ],
      "execution_count": 69,
      "outputs": [
        {
          "output_type": "stream",
          "name": "stdout",
          "text": [
            "Enter a number: 2000\n",
            "2000\n",
            "output is: \n",
            "1000.0\n",
            "500.0\n",
            "250.0\n"
          ]
        }
      ]
    },
    {
      "cell_type": "markdown",
      "metadata": {
        "id": "deaFrnkLYGhJ"
      },
      "source": [
        "4 - Given three number x, y, and z,\n",
        "\n",
        "\n",
        "       Output: x to the power of z,\n",
        "               x to the power of y,\n",
        "               x minus y,\n",
        "               remainder value when x is divided by z"
      ]
    },
    {
      "cell_type": "code",
      "metadata": {
        "id": "4SZRBko7mvc-",
        "colab": {
          "base_uri": "https://localhost:8080/"
        },
        "outputId": "5c1a0f9b-b90c-4b12-bc03-8d93c085c941"
      },
      "source": [
        "x = float(input(\"Enter a number for x: \"))\n",
        "y = float(input(\"Enter a number for y: \"))\n",
        "z = float(input(\"Enter a number for z: \"))\n",
        "\n",
        "print(\"x to the power z: \"+str(x**z))\n",
        "print(\"x to the power of y: \"+str(x**y))\n",
        "print(\"x minus y: \"+str(x-y))\n",
        "print(\"remainder value when x is divided by z: \"+str(x%z))\n"
      ],
      "execution_count": 25,
      "outputs": [
        {
          "output_type": "stream",
          "name": "stdout",
          "text": [
            "Enter a number for x: 2\n",
            "Enter a number for y: 3\n",
            "Enter a number for z: 4\n",
            "x to the power z: 16.0\n",
            "x to the power of y: 8.0\n",
            "x minus y: -1.0\n",
            "remainder value when x is divided by z: 2.0\n"
          ]
        }
      ]
    },
    {
      "cell_type": "markdown",
      "metadata": {
        "id": "GE9xk6_TYcYN"
      },
      "source": [
        "5 - Add\n",
        "\n",
        "        4 quarters (0.25),  3 dimes (0.10), 2 nickels (0.5) and 1 cent\n",
        "        Output:  the total amount as dollars and cents."
      ]
    },
    {
      "cell_type": "code",
      "metadata": {
        "id": "UXZC9qSQsX9_",
        "colab": {
          "base_uri": "https://localhost:8080/"
        },
        "outputId": "6025b2ad-832f-44cc-9173-4c2376839b68"
      },
      "source": [
        "quarters = 4\n",
        "dimes = 3\n",
        "nickels = 2\n",
        "cents = 1\n",
        "\n",
        "print(f\"{quarters} quarters (0.25), {dimes} dimes (0.10), {nickels} nickels (0.5) and {cents} cent\")\n",
        "\n",
        "total = quarters*0.25 + dimes*0.10 + nickels*0.05 + cents*0.01\n",
        "print(f\"Output: {total}\")"
      ],
      "execution_count": 86,
      "outputs": [
        {
          "output_type": "stream",
          "name": "stdout",
          "text": [
            "4 quarters (0.25), 3 dimes (0.10), 2 nickels (0.5) and 1 cent\n",
            "Output: 1.4100000000000001\n"
          ]
        }
      ]
    },
    {
      "cell_type": "markdown",
      "metadata": {
        "id": "O618MLtRtynL"
      },
      "source": [
        "### Strings"
      ]
    },
    {
      "cell_type": "markdown",
      "metadata": {
        "id": "iXtnKBx8Ywy_"
      },
      "source": [
        "6 - Given the string **Python**, with the help of slicing, get **o**."
      ]
    },
    {
      "cell_type": "code",
      "metadata": {
        "id": "EOD6mIiTtOzx",
        "colab": {
          "base_uri": "https://localhost:8080/",
          "height": 35
        },
        "outputId": "5744e226-b298-4073-ab92-82f266f84a35"
      },
      "source": [
        "p = \"Python\"\n",
        "p[-2]\n"
      ],
      "execution_count": 31,
      "outputs": [
        {
          "output_type": "execute_result",
          "data": {
            "text/plain": [
              "'o'"
            ],
            "application/vnd.google.colaboratory.intrinsic+json": {
              "type": "string"
            }
          },
          "metadata": {},
          "execution_count": 31
        }
      ]
    },
    {
      "cell_type": "markdown",
      "metadata": {
        "id": "mgnqbERkY3-J"
      },
      "source": [
        "7 - Given the string **Python**, with the help of slicing get,  **tho**."
      ]
    },
    {
      "cell_type": "code",
      "metadata": {
        "id": "7R58ftspuJK3",
        "colab": {
          "base_uri": "https://localhost:8080/",
          "height": 35
        },
        "outputId": "522b8e5a-4c58-4b9f-c3e2-8751f71d2e0a"
      },
      "source": [
        "p = \"Python\"\n",
        "p[2:5]"
      ],
      "execution_count": 42,
      "outputs": [
        {
          "output_type": "execute_result",
          "data": {
            "text/plain": [
              "'tho'"
            ],
            "application/vnd.google.colaboratory.intrinsic+json": {
              "type": "string"
            }
          },
          "metadata": {},
          "execution_count": 42
        }
      ]
    },
    {
      "cell_type": "markdown",
      "metadata": {
        "id": "U2g51swGY9Hf"
      },
      "source": [
        "8 - Given the string **Python Class**, with the help of slicing, get **Class**."
      ]
    },
    {
      "cell_type": "code",
      "metadata": {
        "id": "sOUYJA0FuN78",
        "colab": {
          "base_uri": "https://localhost:8080/",
          "height": 35
        },
        "outputId": "a253ceb8-0e79-4d91-cd36-d224670f1401"
      },
      "source": [
        "p = \"Python Class\"\n",
        "p[-5:]"
      ],
      "execution_count": 40,
      "outputs": [
        {
          "output_type": "execute_result",
          "data": {
            "text/plain": [
              "'Class'"
            ],
            "application/vnd.google.colaboratory.intrinsic+json": {
              "type": "string"
            }
          },
          "metadata": {},
          "execution_count": 40
        }
      ]
    },
    {
      "cell_type": "markdown",
      "metadata": {
        "id": "tLycBhPYZHsC"
      },
      "source": [
        "9 - Find the length of the String  **Welcome to Pace University**"
      ]
    },
    {
      "cell_type": "code",
      "metadata": {
        "id": "YIERKBvluUdA",
        "colab": {
          "base_uri": "https://localhost:8080/"
        },
        "outputId": "94266215-dcbf-45aa-deb3-c21ad27c09e6"
      },
      "source": [
        "string_content = \"Welcome to Pace University\"\n",
        "len(string_content)"
      ],
      "execution_count": 47,
      "outputs": [
        {
          "output_type": "execute_result",
          "data": {
            "text/plain": [
              "26"
            ]
          },
          "metadata": {},
          "execution_count": 47
        }
      ]
    },
    {
      "cell_type": "markdown",
      "metadata": {
        "id": "l7SqRwF7ZNp8"
      },
      "source": [
        "10 - Split the String  **Welcome to Pace University**  into words"
      ]
    },
    {
      "cell_type": "code",
      "metadata": {
        "id": "1SBnxastueix",
        "colab": {
          "base_uri": "https://localhost:8080/"
        },
        "outputId": "78f6b513-53b7-43bf-b432-49d229071bd4"
      },
      "source": [
        "string_content.split()"
      ],
      "execution_count": 49,
      "outputs": [
        {
          "output_type": "execute_result",
          "data": {
            "text/plain": [
              "['Welcome', 'to', 'Pace', 'University']"
            ]
          },
          "metadata": {},
          "execution_count": 49
        }
      ]
    },
    {
      "cell_type": "markdown",
      "metadata": {
        "id": "YK8s1_BYZSyO"
      },
      "source": [
        "11 - Replace the letter  **i**  with  **o**  in  **Artificial intelligence**"
      ]
    },
    {
      "cell_type": "code",
      "metadata": {
        "id": "EDO4NXUUuoOm"
      },
      "source": [],
      "execution_count": null,
      "outputs": []
    },
    {
      "cell_type": "markdown",
      "metadata": {
        "id": "VLMrFwqhZeNz"
      },
      "source": [
        "12 - convert the text  **DATA Science**  into lower case ( as **data science**)"
      ]
    },
    {
      "cell_type": "code",
      "metadata": {
        "id": "T7NONPC-u94X",
        "colab": {
          "base_uri": "https://localhost:8080/"
        },
        "outputId": "31fe9727-e53c-4ebd-b7f1-a29a97f464bf"
      },
      "source": [
        "term = \"DATA Science\"\n",
        "print(term)\n",
        "print(term.lower())"
      ],
      "execution_count": 56,
      "outputs": [
        {
          "output_type": "stream",
          "name": "stdout",
          "text": [
            "DATA Science\n",
            "data science\n"
          ]
        }
      ]
    },
    {
      "cell_type": "markdown",
      "metadata": {
        "id": "4EHx_9ycZkwh"
      },
      "source": [
        "13 - convert the text  **DATA Science**  into UPPER case ( as **DATA SCIENCE**)"
      ]
    },
    {
      "cell_type": "code",
      "metadata": {
        "id": "Tg1-wbUPvUYI",
        "colab": {
          "base_uri": "https://localhost:8080/"
        },
        "outputId": "6da3a3d3-ad05-41f0-eceb-af12f7e85eaa"
      },
      "source": [
        "print(term.upper())"
      ],
      "execution_count": 57,
      "outputs": [
        {
          "output_type": "stream",
          "name": "stdout",
          "text": [
            "DATA SCIENCE\n"
          ]
        }
      ]
    },
    {
      "cell_type": "markdown",
      "metadata": {
        "id": "STL6BSOOZ44L"
      },
      "source": [
        "14 - reverse the given String  **Artificial intelligence**"
      ]
    },
    {
      "cell_type": "code",
      "metadata": {
        "id": "CJPPWcOgvdWN",
        "colab": {
          "base_uri": "https://localhost:8080/",
          "height": 35
        },
        "outputId": "5787b589-10f3-4b77-87ca-2f2e88fd81df"
      },
      "source": [
        "(\"Artificial intelligence\")[::-1]"
      ],
      "execution_count": 63,
      "outputs": [
        {
          "output_type": "execute_result",
          "data": {
            "text/plain": [
              "'ecnegilletni laicifitrA'"
            ],
            "application/vnd.google.colaboratory.intrinsic+json": {
              "type": "string"
            }
          },
          "metadata": {},
          "execution_count": 63
        }
      ]
    },
    {
      "cell_type": "markdown",
      "metadata": {
        "id": "TU_sm0SsoGXV"
      },
      "source": [
        "###Comparision Operators"
      ]
    },
    {
      "cell_type": "markdown",
      "metadata": {
        "id": "XJYziySoaAdz"
      },
      "source": [
        "15 - Compare two number a =150, b = 225 and print if they are:\n",
        "\n",
        "        equal,\n",
        "        greater,\n",
        "        greater than or equal to,\n",
        "        less,\n",
        "        less than or equal to,  \n",
        "        not equal\n",
        "       \n",
        "        example : a < b\n",
        "                  print(\"a is less than b\")"
      ]
    },
    {
      "cell_type": "code",
      "metadata": {
        "id": "4qFJzGo3wIsC",
        "colab": {
          "base_uri": "https://localhost:8080/"
        },
        "outputId": "e70f1002-c381-49a1-9a4a-ac16ea7c7cc9"
      },
      "source": [
        "a = 150\n",
        "b = 225\n",
        "\n",
        "if a==b:\n",
        "  print(\"a is equal to b\")\n",
        "elif a>b:\n",
        "  print(\"a is greater than b\")\n",
        "elif a>=b:\n",
        "  print(\"a is greater than or equal to b\")\n",
        "elif a<b:\n",
        "  print(\"a is less than b\")\n",
        "elif a<=b:\n",
        "  print(\"a is less than or equal to b\")\n",
        "elif a!=b:\n",
        "  print(\"a is not equal to b\")\n"
      ],
      "execution_count": 64,
      "outputs": [
        {
          "output_type": "stream",
          "name": "stdout",
          "text": [
            "a is less than b\n"
          ]
        }
      ]
    },
    {
      "cell_type": "code",
      "source": [],
      "metadata": {
        "id": "m7Q62RW1T85t"
      },
      "execution_count": null,
      "outputs": []
    },
    {
      "cell_type": "markdown",
      "metadata": {
        "id": "8kbRYQGy3fsq"
      },
      "source": [
        "###Lists"
      ]
    },
    {
      "cell_type": "markdown",
      "metadata": {
        "id": "UeK6ZxU53cZF"
      },
      "source": [
        "16 - Create a **list** of **lists** of integers elements"
      ]
    },
    {
      "cell_type": "code",
      "metadata": {
        "id": "GdMdQwi33cB5"
      },
      "source": [
        "a_list = [2,5,3,7]"
      ],
      "execution_count": null,
      "outputs": []
    },
    {
      "cell_type": "markdown",
      "metadata": {
        "id": "pWriOAll3sCF"
      },
      "source": [
        "17 - Create a **list** of **lists** of Text elements"
      ]
    },
    {
      "cell_type": "code",
      "metadata": {
        "id": "eCXFxSi13rXa"
      },
      "source": [],
      "execution_count": 65,
      "outputs": []
    }
  ]
}